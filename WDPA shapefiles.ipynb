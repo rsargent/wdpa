{
 "metadata": {
  "name": "",
  "signature": "sha256:3594afd92c252398541fcbf1de44ab6833c66e4ca5bcb751826d8d964f2162f8"
 },
 "nbformat": 3,
 "nbformat_minor": 0,
 "worksheets": [
  {
   "cells": [
    {
     "cell_type": "markdown",
     "metadata": {},
     "source": [
      "Convert WPDA polygons from shapefile to binary line segments for WebGL\n",
      "======================================================================"
     ]
    },
    {
     "cell_type": "code",
     "collapsed": false,
     "input": [
      "import array, datetime, json, math, os, subprocess, sys"
     ],
     "language": "python",
     "metadata": {},
     "outputs": [],
     "prompt_number": 24
    },
    {
     "cell_type": "code",
     "collapsed": false,
     "input": [
      "# Use google maps Mercator projection to convert from\n",
      "# [lon, lat] in degrees to [x, y] in the range x:0-256, y:0-256\n",
      "\n",
      "def LonLatToPixelXY(lonlat):\n",
      "    (lon, lat) = lonlat\n",
      "    x = (lon + 180.0) * 256.0 / 360.0\n",
      "    y = 128.0 - math.log(math.tan((lat + 90.0) * math.pi / 360.0)) * 128.0 / math.pi\n",
      "    return [x, y]\n",
      "\n",
      "def PixelXYToLonLat(xy):\n",
      "    (x, y) = xy\n",
      "    lat = math.atan(math.exp((128.0 - y) * math.pi / 128.0)) * 360.0 / math.pi - 90.0\n",
      "    lon = x * 360.0 / 256.0 - 180.0\n",
      "    return [lon, lat]\n",
      "\n",
      "def testProj():\n",
      "    print LonLatToPixelXY([0,0])\n",
      "    print PixelXYToLonLat([128, 128])\n",
      "    print LonLatToPixelXY([-180,0])\n",
      "    print LonLatToPixelXY([180,0])\n",
      "    print LonLatToPixelXY([0,85.05])\n",
      "    print LonLatToPixelXY([0,-85.05])"
     ],
     "language": "python",
     "metadata": {},
     "outputs": [],
     "prompt_number": 2
    },
    {
     "cell_type": "code",
     "collapsed": false,
     "input": [
      "def shp2geojson(dest, src, simplify=None):\n",
      "    try:\n",
      "        os.remove(dest)\n",
      "    except:\n",
      "        pass\n",
      "    cmd = ['ogr2ogr', '-f', 'GeoJSON', dest, src]\n",
      "    if simplify != None:\n",
      "        cmd += ['-simplify', str(simplify)]\n",
      "    print 'Creating %s: %s' % (dest, ' '.join(cmd))\n",
      "    subprocess.check_call(cmd)\n",
      "    print subprocess.check_output(['ls', '-lh', dest])"
     ],
     "language": "python",
     "metadata": {},
     "outputs": [],
     "prompt_number": 3
    },
    {
     "cell_type": "code",
     "collapsed": false,
     "input": [
      "# .01: 7M\n",
      "# .001: 14M\n",
      "# .0001: 36M\n",
      "# None: 93M\n",
      "#json_file = 'dissolved.geojson'\n",
      "#shp2geojson(json_file, 'Dissolved/WDPApoly_Aug2014.shp', 0.0001)\n",
      "\n",
      "#shp2geojson('BraIdnReb-t4.json', 'BraIdnReb/WDPAPoly_Aug2014.shp', 1e-4) # 77M\n",
      "#shp2geojson('BraIdnReb-t3.json', 'BraIdnReb/WDPAPoly_Aug2014.shp', 1e-3) # 23M\n",
      "#shp2geojson('BraIdnReb-t2.json', 'BraIdnReb/WDPAPoly_Aug2014.shp', 1e-2) # 7M\n"
     ],
     "language": "python",
     "metadata": {},
     "outputs": [
      {
       "output_type": "stream",
       "stream": "stdout",
       "text": [
        "Creating BraIdnReb-t2.json: ogr2ogr -f GeoJSON BraIdnReb-t2.json BraIdnReb/WDPAPoly_Aug2014.shp -simplify 0.01\n",
        "-rw-r--r--  1 rsargent  staff   7.2M Sep 25 11:53 BraIdnReb-t2.json\n"
       ]
      },
      {
       "output_type": "stream",
       "stream": "stdout",
       "text": [
        "\n"
       ]
      }
     ],
     "prompt_number": 4
    },
    {
     "cell_type": "code",
     "collapsed": false,
     "input": [
      "def geojson2binary(dest, src):\n",
      "    geojson = json.load(open(src))\n",
      "    if geojson['type'] != 'FeatureCollection':\n",
      "        raise Exception('Unexpected geojson type %s' % geojson['type'])\n",
      "\n",
      "    features = geojson['features']\n",
      "    actual_features = 0\n",
      "    print 'Searching %d features' % len(features)\n",
      "\n",
      "    data = []\n",
      "\n",
      "    def extract_rings(rings, epoch_time):\n",
      "        data = []\n",
      "        for ring in rings:\n",
      "            for i in range(0, len(ring)):\n",
      "                data += LonLatToPixelXY(ring[i-1])\n",
      "                data.append(epoch_time)\n",
      "                data += LonLatToPixelXY(ring[i])\n",
      "                data.append(epoch_time)\n",
      "        return data\n",
      "\n",
      "    for feature in features:\n",
      "        if feature['type'] != 'Feature':\n",
      "            raise Exception('Unexpected feature type %s' % feature['type'])\n",
      "\n",
      "        properties = feature['properties']\n",
      "        \n",
      "        # Skip proposed areas\n",
      "        if properties['STATUS'] == 'Proposed':\n",
      "            continue\n",
      "        \n",
      "        actual_features += 1\n",
      "        \n",
      "        # When STATUS_YR == 0 means undefined.  We treat this as if the feature's been there\n",
      "        # approximately forever, AD 1, which is the earliest time Python seems happy with\n",
      "        status_year = max(1, properties['STATUS_YR'])\n",
      "        epoch_time = (datetime.datetime(status_year, 1, 1) - datetime.datetime(1970, 1, 1)).total_seconds()\n",
      "        geometry = feature['geometry']\n",
      "    \n",
      "        if geometry['type'] == 'Polygon':\n",
      "            data += extract_rings(geometry['coordinates'], epoch_time)\n",
      "        elif geometry['type'] == 'MultiPolygon':\n",
      "            for polygon in geometry['coordinates']:\n",
      "                data += extract_rings(polygon, epoch_time)\n",
      "        else:\n",
      "            raise Exception('Unexpected geoemtry type %s' % geometry['type'])\n",
      "\n",
      "    print '%d actual features after filtering out \"Proposed\"' % actual_features\n",
      "    print 'Created %d line segments' % (len(data) / 6)\n",
      "\n",
      "    # Write array as 32-bit float binary\n",
      "    # WARNING: this simply uses the host's byte ordering, which is little-endian on intel\n",
      "    if sys.byteorder != 'little':\n",
      "        raise Exception('Someone needs to write some code to handle different endianness')\n",
      "    array.array('f', data).tofile(open(dest, 'w'))\n",
      "    print 'Wrote %.1f MB to %s' % (len(open(dest).read()) / 1e6, dest)\n"
     ],
     "language": "python",
     "metadata": {},
     "outputs": [],
     "prompt_number": 44
    },
    {
     "cell_type": "code",
     "collapsed": false,
     "input": [
      "geojson2binary('BraIdnReb-time-t2.bin', 'BraIdnReb-t2.json')\n",
      "geojson2binary('BraIdnReb-time-t3.bin', 'BraIdnReb-t3.json')\n",
      "geojson2binary('BraIdnReb-time-t4.bin', 'BraIdnReb-t4.json')"
     ],
     "language": "python",
     "metadata": {},
     "outputs": [
      {
       "output_type": "stream",
       "stream": "stdout",
       "text": [
        "Searching 3584 features\n",
        "3164 actual features after filtering out \"Proposed\""
       ]
      },
      {
       "output_type": "stream",
       "stream": "stdout",
       "text": [
        "\n",
        "Created 100900 line segments\n",
        "Wrote 2.4 MB to BraIdnReb-time-t2.bin\n",
        "Searching 3584 features"
       ]
      },
      {
       "output_type": "stream",
       "stream": "stdout",
       "text": [
        "\n",
        "3164 actual features after filtering out \"Proposed\""
       ]
      },
      {
       "output_type": "stream",
       "stream": "stdout",
       "text": [
        "\n",
        "Created 485265 line segments\n",
        "Wrote 11.6 MB to BraIdnReb-time-t3.bin"
       ]
      },
      {
       "output_type": "stream",
       "stream": "stdout",
       "text": [
        "\n",
        "Searching 3584 features"
       ]
      },
      {
       "output_type": "stream",
       "stream": "stdout",
       "text": [
        "\n",
        "3164 actual features after filtering out \"Proposed\""
       ]
      },
      {
       "output_type": "stream",
       "stream": "stdout",
       "text": [
        "\n",
        "Created 1767326 line segments\n",
        "Wrote 42.4 MB to BraIdnReb-time-t4.bin"
       ]
      },
      {
       "output_type": "stream",
       "stream": "stdout",
       "text": [
        "\n"
       ]
      }
     ],
     "prompt_number": 50
    },
    {
     "cell_type": "markdown",
     "metadata": {},
     "source": [
      "Sync to http://data.cmucreatelab.org/wpda/\n",
      "------------------------------------------"
     ]
    },
    {
     "cell_type": "code",
     "collapsed": false,
     "input": [
      "!rsync -av *.bin tm1:/usr4/web/data.cmucreatelab.org/www/wpda\n",
      "\n",
      "# !scp dissolved.bin tm1:/usr4/web/data.cmucreatelab.org/www/wpda/amazon.bin"
     ],
     "language": "python",
     "metadata": {},
     "outputs": [
      {
       "output_type": "stream",
       "stream": "stdout",
       "text": [
        "building file list ... done\r\n",
        "BraIdnReb-time-t2.bin\r\n",
        "BraIdnReb-time-t3.bin\r\n"
       ]
      },
      {
       "output_type": "stream",
       "stream": "stdout",
       "text": [
        "BraIdnReb-time-t4.bin\r\n"
       ]
      },
      {
       "output_type": "stream",
       "stream": "stdout",
       "text": [
        "\r\n",
        "sent 54075373 bytes  received 9452 bytes  36056550.00 bytes/sec\r\n",
        "total size is 142882360  speedup is 2.64\r\n"
       ]
      }
     ],
     "prompt_number": 51
    },
    {
     "cell_type": "code",
     "collapsed": false,
     "input": [
      "sys.byteorder"
     ],
     "language": "python",
     "metadata": {},
     "outputs": [
      {
       "metadata": {},
       "output_type": "pyout",
       "prompt_number": 55,
       "text": [
        "'little'"
       ]
      }
     ],
     "prompt_number": 55
    },
    {
     "cell_type": "code",
     "collapsed": false,
     "input": [],
     "language": "python",
     "metadata": {},
     "outputs": []
    }
   ],
   "metadata": {}
  }
 ]
}